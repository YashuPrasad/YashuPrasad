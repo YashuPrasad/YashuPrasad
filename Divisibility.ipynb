{
 "cells": [
  {
   "cell_type": "code",
   "execution_count": null,
   "metadata": {},
   "outputs": [],
   "source": [
    "# comments\n",
    "\n",
    "# multiline comment.\n",
    "\n",
    "\"\"\"\" this is my week 8 assignment.\n",
    " working on prime and non prime numbers\n",
    " looks interesting\"\"\"\n",
    "\n"
   ]
  },
  {
   "cell_type": "code",
   "execution_count": null,
   "metadata": {},
   "outputs": [],
   "source": [
    "# to take input from the user\n",
    "#num = int(input(\"enter a number:\"))\n",
    "\n",
    "lower = int (input(\"enter the lower interval:\"))\n",
    "upper = int (input(\"enter the upper interval:\"))\n",
    "for value in range(lower,upper+1):\n",
    "    if value>1:\n",
    "        for i in range(2,value):\n",
    "            if (value%i) == 0:\n",
    "                break\n",
    "            else:\n",
    "                print(value)\n"
   ]
  },
  {
   "cell_type": "code",
   "execution_count": 2,
   "metadata": {},
   "outputs": [
    {
     "name": "stdout",
     "output_type": "stream",
     "text": [
      " enter x to exit \"\n",
      "input any five numbers ;\n",
      "5\n",
      "7\n",
      "19\n",
      "23\n",
      "29\n",
      "Enter a number to check divisibility : 2\n",
      "number divisible by  2  are  []\n"
     ]
    }
   ],
   "source": [
    "#check numbers divisible by another number\n",
    "\n",
    "print (' enter x to exit \"')\n",
    "print ('input any five numbers ;')\n",
    "nl=input()\n",
    "if nl=='x':\n",
    "       exit()\n",
    "else:\n",
    "       n2=input()\n",
    "       n3=input()\n",
    "       n4=input()\n",
    "       n5=input()\n",
    "       no1=int(nl)\n",
    "       no2=int(n2)\n",
    "       no3=int(n3)\n",
    "       no4=int(n4)\n",
    "       no5=int(n5)\n",
    "       nolist=[no1,no2,no3,no4,no5]\n",
    "       checkno=int(input('Enter a number to check divisibility : '))\n",
    "       result= list (filter(lambda x: (x % checkno==0) ,nolist))\n",
    "       print('number divisible by ' ,checkno, ' are ', result)"
   ]
  },
  {
   "cell_type": "code",
   "execution_count": 4,
   "metadata": {},
   "outputs": [
    {
     "data": {
      "text/plain": [
       "'\"\"can even check the divisibility of the numbers, the above example\\ni randomly chose few numbers checked the divisiblity by2\\n none of the above five numbers were divisible by other integer beecause the given examples were prime numbers'"
      ]
     },
     "execution_count": 4,
     "metadata": {},
     "output_type": "execute_result"
    }
   ],
   "source": [
    "# multiline comment\n",
    "\"\"\"\"\"can even check the divisibility of the numbers, the above example\n",
    "i randomly chose few numbers checked the divisiblity by2\n",
    " none of the above five numbers were divisible by other integer beecause the given examples were prime numbers\"\"\""
   ]
  }
 ],
 "metadata": {
  "kernelspec": {
   "display_name": "Python 3",
   "language": "python",
   "name": "python3"
  },
  "language_info": {
   "codemirror_mode": {
    "name": "ipython",
    "version": 3
   },
   "file_extension": ".py",
   "mimetype": "text/x-python",
   "name": "python",
   "nbconvert_exporter": "python",
   "pygments_lexer": "ipython3",
   "version": "3.7.4"
  }
 },
 "nbformat": 4,
 "nbformat_minor": 2
}
